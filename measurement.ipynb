{
 "cells": [
  {
   "cell_type": "code",
   "execution_count": 1,
   "id": "69a59d7c-010e-4fc2-b8ec-9d61fbf5daf1",
   "metadata": {},
   "outputs": [],
   "source": [
    "import os\n",
    "from datetime import datetime\n",
    "from glob import glob\n",
    "\n",
    "import matplotlib.pyplot as plt\n",
    "import numpy as np\n",
    "from sciopy import EIT_16_32_64_128, EitMeasurementSetup"
   ]
  },
  {
   "cell_type": "code",
   "execution_count": 2,
   "id": "28dc81fa-0d30-48e5-a5e1-27ed54ac9308",
   "metadata": {},
   "outputs": [],
   "source": [
    "n_el = 16\n",
    "sciospec = EIT_16_32_64_128(n_el)"
   ]
  },
  {
   "cell_type": "code",
   "execution_count": 3,
   "id": "33251084-9526-4178-be53-fdcc1b11143c",
   "metadata": {},
   "outputs": [],
   "source": [
    "sciospec.connect_device_HS()"
   ]
  },
  {
   "cell_type": "code",
   "execution_count": 4,
   "id": "32eaf7f5-32cb-4d20-be8e-cc83b134e5bb",
   "metadata": {},
   "outputs": [
    {
     "name": "stdout",
     "output_type": "stream",
     "text": [
      "No message inside the message buffer\n",
      "message buffer:\n",
      " []\n",
      "message length:\t 0\n"
     ]
    }
   ],
   "source": [
    "sciospec.SystemMessageCallback()"
   ]
  },
  {
   "cell_type": "code",
   "execution_count": 5,
   "id": "11f517fb-5bf3-484c-905a-17103856c905",
   "metadata": {},
   "outputs": [],
   "source": [
    "setup = EitMeasurementSetup(\n",
    "    burst_count=10,\n",
    "    n_el=n_el,\n",
    "    exc_freq=125_000,\n",
    "    framerate=10,\n",
    "    amplitude=0.01,\n",
    "    inj_skip=n_el // 2,\n",
    "    gain=1,\n",
    "    adc_range=1,\n",
    ")"
   ]
  },
  {
   "cell_type": "code",
   "execution_count": 6,
   "id": "9fd42559-2afc-482f-aef8-836d8d637837",
   "metadata": {},
   "outputs": [
    {
     "name": "stdout",
     "output_type": "stream",
     "text": [
      "Command-Acknowledge: Command has been executed successfully\n",
      "message buffer:\n",
      " ['0x18', '0x1', '0x83', '0x18']\n",
      "message length:\t 4\n",
      "Command-Acknowledge: Command has been executed successfully\n",
      "message buffer:\n",
      " ['0x18', '0x1', '0x83', '0x18']\n",
      "message length:\t 4\n",
      "Command-Acknowledge: Command has been executed successfully\n",
      "message buffer:\n",
      " ['0x18', '0x1', '0x83', '0x18']\n",
      "message length:\t 4\n",
      "Command-Acknowledge: Command has been executed successfully\n",
      "message buffer:\n",
      " ['0x18', '0x1', '0x83', '0x18']\n",
      "message length:\t 4\n"
     ]
    }
   ],
   "source": [
    "sciospec.SetMeasurementSetup(setup)"
   ]
  },
  {
   "cell_type": "code",
   "execution_count": 7,
   "id": "432751f6-715d-4c02-b73c-214db2c4ae68",
   "metadata": {},
   "outputs": [],
   "source": [
    "sciospec.SystemMessageCallback()"
   ]
  },
  {
   "cell_type": "code",
   "execution_count": 8,
   "id": "b0a19d37-d3f5-4eea-a4ee-22f5ab80999c",
   "metadata": {},
   "outputs": [
    {
     "name": "stdout",
     "output_type": "stream",
     "text": [
      "Timestamp raw: 2024-12-02 09:51:42.735177\n",
      "Timestamp formatted: 2024-12-02 09:51:42\n"
     ]
    }
   ],
   "source": [
    "crr_ts = datetime.now()\n",
    "frm_ts = crr_ts.strftime(\"%Y-%m-%d %H:%M:%S\")\n",
    "\n",
    "print(\"Timestamp raw:\", crr_ts)\n",
    "print(\"Timestamp formatted:\", frm_ts)"
   ]
  },
  {
   "cell_type": "code",
   "execution_count": 14,
   "id": "4af15a3e-79e8-41b5-b836-733621485947",
   "metadata": {},
   "outputs": [],
   "source": [
    "pot_mat = sciospec.StartStopMeasurement()"
   ]
  },
  {
   "cell_type": "code",
   "execution_count": 15,
   "id": "b0eb0191-d37f-4534-84bc-b3ce304221a8",
   "metadata": {},
   "outputs": [
    {
     "data": {
      "text/plain": [
       "(10, 16, 16)"
      ]
     },
     "execution_count": 15,
     "metadata": {},
     "output_type": "execute_result"
    }
   ],
   "source": [
    "pot_mat.shape"
   ]
  },
  {
   "cell_type": "code",
   "execution_count": 12,
   "id": "e4601730-d738-4220-ac39-69712763f4c5",
   "metadata": {},
   "outputs": [
    {
     "name": "stdout",
     "output_type": "stream",
     "text": [
      "s_path='data/measurement_0'\n"
     ]
    }
   ],
   "source": [
    "meas_num = len(glob(\"data/measurement_*\"))\n",
    "try:\n",
    "    s_path = f\"data/measurement_{meas_num}\"\n",
    "    os.mkdir(s_path)\n",
    "    print(f\"{s_path=}\")\n",
    "except e:\n",
    "    print(e)"
   ]
  },
  {
   "cell_type": "code",
   "execution_count": 17,
   "id": "82c6a98a-9a32-4474-a496-fc2dd1dcaf14",
   "metadata": {},
   "outputs": [],
   "source": [
    "s_idx = 0\n",
    "for _ in range(100):\n",
    "    crr_ts = datetime.now()\n",
    "    pot_mat = sciospec.StartStopMeasurement()\n",
    "    np.savez(\n",
    "        s_path + \"/sample_{0:06d}.npz\".format(s_idx), timestamp=crr_ts, pot_mat=pot_mat\n",
    "    )\n",
    "    s_idx += 1"
   ]
  },
  {
   "cell_type": "code",
   "execution_count": null,
   "id": "c712de42-cb67-48a3-8757-ecbb025812d9",
   "metadata": {},
   "outputs": [],
   "source": []
  }
 ],
 "metadata": {
  "kernelspec": {
   "display_name": "Python 3 (ipykernel)",
   "language": "python",
   "name": "python3"
  },
  "language_info": {
   "codemirror_mode": {
    "name": "ipython",
    "version": 3
   },
   "file_extension": ".py",
   "mimetype": "text/x-python",
   "name": "python",
   "nbconvert_exporter": "python",
   "pygments_lexer": "ipython3",
   "version": "3.12.2"
  }
 },
 "nbformat": 4,
 "nbformat_minor": 5
}
