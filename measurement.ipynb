{
 "cells": [
  {
   "cell_type": "code",
   "execution_count": 1,
   "id": "69a59d7c-010e-4fc2-b8ec-9d61fbf5daf1",
   "metadata": {},
   "outputs": [],
   "source": [
    "from datetime import datetime\n",
    "\n",
    "import matplotlib.pyplot as plt\n",
    "import numpy as np\n",
    "from sciopy import EIT_16_32_64_128, EitMeasurementSetup"
   ]
  },
  {
   "cell_type": "code",
   "execution_count": null,
   "id": "28dc81fa-0d30-48e5-a5e1-27ed54ac9308",
   "metadata": {},
   "outputs": [],
   "source": [
    "sciospec = EIT_16_32_64_128(n_el=16)"
   ]
  },
  {
   "cell_type": "code",
   "execution_count": null,
   "id": "33251084-9526-4178-be53-fdcc1b11143c",
   "metadata": {},
   "outputs": [],
   "source": [
    "# sciospec.connect_device_HS()"
   ]
  },
  {
   "cell_type": "code",
   "execution_count": null,
   "id": "32eaf7f5-32cb-4d20-be8e-cc83b134e5bb",
   "metadata": {},
   "outputs": [],
   "source": [
    "sciospec.SystemMessageCallback()"
   ]
  },
  {
   "cell_type": "code",
   "execution_count": null,
   "id": "9fd42559-2afc-482f-aef8-836d8d637837",
   "metadata": {},
   "outputs": [],
   "source": [
    "sciospec.SetMeasurementSetup(setup)"
   ]
  },
  {
   "cell_type": "code",
   "execution_count": null,
   "id": "11f517fb-5bf3-484c-905a-17103856c905",
   "metadata": {},
   "outputs": [],
   "source": [
    "setup = EitMeasurementSetup(\n",
    "    burst_count=1,\n",
    "    n_el=n_el,\n",
    "    exc_freq=125_000,\n",
    "    framerate=3,\n",
    "    amplitude=0.01,\n",
    "    inj_skip=n_el // 2,\n",
    "    gain=1,\n",
    "    adc_range=1,\n",
    ")"
   ]
  },
  {
   "cell_type": "code",
   "execution_count": null,
   "id": "36d382e8-bc7f-492d-b736-f78ac972eedf",
   "metadata": {},
   "outputs": [],
   "source": [
    "sciospec.GetMeasurementSetup(2)"
   ]
  },
  {
   "cell_type": "code",
   "execution_count": null,
   "id": "432751f6-715d-4c02-b73c-214db2c4ae68",
   "metadata": {},
   "outputs": [],
   "source": [
    "sciospec.SystemMessageCallback()"
   ]
  },
  {
   "cell_type": "code",
   "execution_count": null,
   "id": "b0a19d37-d3f5-4eea-a4ee-22f5ab80999c",
   "metadata": {},
   "outputs": [],
   "source": [
    "crr_ts = datetime.now()\n",
    "frm_ts = crr_ts.strftime(\"%Y-%m-%d %H:%M:%S\")\n",
    "\n",
    "print(\"Timestamp raw:\", crr_ts)\n",
    "print(\"Timestamp formatted:\", frm_ts)"
   ]
  },
  {
   "cell_type": "code",
   "execution_count": null,
   "id": "82c6a98a-9a32-4474-a496-fc2dd1dcaf14",
   "metadata": {},
   "outputs": [],
   "source": [
    "# TBD check if continues measurement is possible"
   ]
  }
 ],
 "metadata": {
  "kernelspec": {
   "display_name": "Python 3 (ipykernel)",
   "language": "python",
   "name": "python3"
  },
  "language_info": {
   "codemirror_mode": {
    "name": "ipython",
    "version": 3
   },
   "file_extension": ".py",
   "mimetype": "text/x-python",
   "name": "python",
   "nbconvert_exporter": "python",
   "pygments_lexer": "ipython3",
   "version": "3.12.2"
  }
 },
 "nbformat": 4,
 "nbformat_minor": 5
}
