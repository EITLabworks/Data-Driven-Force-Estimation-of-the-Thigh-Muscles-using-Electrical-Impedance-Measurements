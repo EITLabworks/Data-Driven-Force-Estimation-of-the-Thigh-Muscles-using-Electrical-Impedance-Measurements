{
 "cells": [
  {
   "cell_type": "code",
   "execution_count": 1,
   "id": "69a59d7c-010e-4fc2-b8ec-9d61fbf5daf1",
   "metadata": {},
   "outputs": [],
   "source": [
    "import os\n",
    "from datetime import datetime\n",
    "from glob import glob\n",
    "\n",
    "import matplotlib.pyplot as plt\n",
    "import numpy as np\n",
    "from sciopy import EIT_16_32_64_128, EitMeasurementSetup"
   ]
  },
  {
   "cell_type": "code",
   "execution_count": 2,
   "id": "28dc81fa-0d30-48e5-a5e1-27ed54ac9308",
   "metadata": {},
   "outputs": [],
   "source": [
    "n_el = 16\n",
    "sciospec = EIT_16_32_64_128(n_el)"
   ]
  },
  {
   "cell_type": "code",
   "execution_count": 3,
   "id": "33251084-9526-4178-be53-fdcc1b11143c",
   "metadata": {},
   "outputs": [],
   "source": [
    "sciospec.connect_device_HS()"
   ]
  },
  {
   "cell_type": "code",
   "execution_count": 4,
   "id": "32eaf7f5-32cb-4d20-be8e-cc83b134e5bb",
   "metadata": {},
   "outputs": [
    {
     "name": "stdout",
     "output_type": "stream",
     "text": [
      "No message inside the message buffer\n",
      "message buffer:\n",
      " []\n",
      "message length:\t 0\n"
     ]
    }
   ],
   "source": [
    "sciospec.SystemMessageCallback()"
   ]
  },
  {
   "cell_type": "code",
   "execution_count": 10,
   "id": "11f517fb-5bf3-484c-905a-17103856c905",
   "metadata": {},
   "outputs": [],
   "source": [
    "setup = EitMeasurementSetup(\n",
    "    burst_count=40,\n",
    "    n_el=n_el,\n",
    "    exc_freq=125_000,\n",
    "    framerate=10,\n",
    "    amplitude=0.01,\n",
    "    inj_skip=n_el // 2,\n",
    "    gain=1,\n",
    "    adc_range=1,\n",
    ")"
   ]
  },
  {
   "cell_type": "code",
   "execution_count": 11,
   "id": "9fd42559-2afc-482f-aef8-836d8d637837",
   "metadata": {},
   "outputs": [
    {
     "name": "stdout",
     "output_type": "stream",
     "text": [
      "Command-Acknowledge: Command has been executed successfully\n",
      "message buffer:\n",
      " ['0x18', '0x1', '0x83', '0x18']\n",
      "message length:\t 4\n",
      "Command-Acknowledge: Command has been executed successfully\n",
      "message buffer:\n",
      " ['0x18', '0x1', '0x83', '0x18']\n",
      "message length:\t 4\n",
      "Command-Acknowledge: Command has been executed successfully\n",
      "message buffer:\n",
      " ['0x18', '0x1', '0x83', '0x18']\n",
      "message length:\t 4\n",
      "Command-Acknowledge: Command has been executed successfully\n",
      "message buffer:\n",
      " ['0x18', '0x1', '0x83', '0x18']\n",
      "message length:\t 4\n"
     ]
    }
   ],
   "source": [
    "sciospec.SetMeasurementSetup(setup)"
   ]
  },
  {
   "cell_type": "code",
   "execution_count": 12,
   "id": "432751f6-715d-4c02-b73c-214db2c4ae68",
   "metadata": {},
   "outputs": [],
   "source": [
    "sciospec.SystemMessageCallback()"
   ]
  },
  {
   "cell_type": "code",
   "execution_count": 13,
   "id": "b0a19d37-d3f5-4eea-a4ee-22f5ab80999c",
   "metadata": {},
   "outputs": [
    {
     "name": "stdout",
     "output_type": "stream",
     "text": [
      "Timestamp raw: 2024-12-03 13:35:11.554439\n",
      "Timestamp formatted: 2024-12-03 13:35:11\n"
     ]
    }
   ],
   "source": [
    "crr_ts = datetime.now()\n",
    "frm_ts = crr_ts.strftime(\"%Y-%m-%d %H:%M:%S\")\n",
    "\n",
    "print(\"Timestamp raw:\", crr_ts)\n",
    "print(\"Timestamp formatted:\", frm_ts)"
   ]
  },
  {
   "cell_type": "code",
   "execution_count": 25,
   "id": "4af15a3e-79e8-41b5-b836-733621485947",
   "metadata": {},
   "outputs": [],
   "source": [
    "pot_mat = sciospec.StartStopMeasurement()"
   ]
  },
  {
   "cell_type": "code",
   "execution_count": 27,
   "id": "2b8c2271-29df-4f58-b959-7c8335517822",
   "metadata": {},
   "outputs": [
    {
     "data": {
      "text/plain": [
       "<matplotlib.image.AxesImage at 0x71a710de3e60>"
      ]
     },
     "execution_count": 27,
     "metadata": {},
     "output_type": "execute_result"
    },
    {
     "data": {
      "image/png": "[encoded data removed]",
      "text/plain": [
       "<Figure size 640x480 with 1 Axes>"
      ]
     },
     "metadata": {},
     "output_type": "display_data"
    }
   ],
   "source": [
    "plt.imshow(pot_mat[10, :, :].imag)"
   ]
  },
  {
   "cell_type": "code",
   "execution_count": 34,
   "id": "9a5d3010-ffee-4e1c-8324-8359dc5fe257",
   "metadata": {},
   "outputs": [
    {
     "data": {
      "text/plain": [
       "<matplotlib.image.AxesImage at 0x71a710da8c80>"
      ]
     },
     "execution_count": 34,
     "metadata": {},
     "output_type": "execute_result"
    },
    {
     "data": {
      "image/png": "[encoded data removed]",
      "text/plain": [
       "<Figure size 640x480 with 1 Axes>"
      ]
     },
     "metadata": {},
     "output_type": "display_data"
    }
   ],
   "source": [
    "plt.imshow(np.mean(pot_mat, axis=0).real)"
   ]
  },
  {
   "cell_type": "code",
   "execution_count": 50,
   "id": "e4601730-d738-4220-ac39-69712763f4c5",
   "metadata": {},
   "outputs": [
    {
     "name": "stdout",
     "output_type": "stream",
     "text": [
      "s_path='data/measurement_franzi_1'\n"
     ]
    }
   ],
   "source": [
    "meas_num = len(glob(\"data/measurement_franzi_*\"))\n",
    "try:\n",
    "    s_path = f\"data/measurement_franzi_{meas_num}\"\n",
    "    os.mkdir(s_path)\n",
    "    print(f\"{s_path=}\")\n",
    "except e:\n",
    "    print(e)"
   ]
  },
  {
   "cell_type": "code",
   "execution_count": 53,
   "id": "82c6a98a-9a32-4474-a496-fc2dd1dcaf14",
   "metadata": {},
   "outputs": [],
   "source": [
    "s_idx = 0"
   ]
  },
  {
   "cell_type": "markdown",
   "id": "17daf4b2-c0e8-4534-9cb5-b5d2c15a3f42",
   "metadata": {},
   "source": [
    "## Measurements\n",
    "\n",
    "- 15 participants\n",
    "- konzentrische Bewegung mit unterschiedlichen Kraftniveaus\n",
    "- 20, 30, ... 80, NM -> 8 Kategorien\n",
    "- geshufflete Kraftkurven\n",
    "- ein Protokoll möglich\n",
    "- Standartisierte Probevorgänge (klein, mittel, hoch) immer identisch\n",
    "- wie viele Messungen pro sekunde möglich?"
   ]
  },
  {
   "cell_type": "code",
   "execution_count": 52,
   "id": "2354340d-8a9b-4c91-be59-48e0ae295a4b",
   "metadata": {},
   "outputs": [
    {
     "name": "stdout",
     "output_type": "stream",
     "text": [
      "[20 20 70 70 40 40 80 80 50 50 30 30 60 60]\n"
     ]
    }
   ],
   "source": [
    "NMs = np.arange(20, 81, 10)\n",
    "np.random.shuffle(NMs)\n",
    "NMs = np.repeat(NMs, 2)\n",
    "\n",
    "print(NMs)"
   ]
  },
  {
   "cell_type": "code",
   "execution_count": 68,
   "id": "da801321-3ac9-4468-b425-ecd2fc8b6672",
   "metadata": {},
   "outputs": [
    {
     "name": "stdout",
     "output_type": "stream",
     "text": [
      "Measurement 13 with 60 NM\n"
     ]
    }
   ],
   "source": [
    "NM = NMs[s_idx]\n",
    "print(\"Measurement\", s_idx, \"with\", NM, \"NM\")\n",
    "crr_ts = datetime.now()\n",
    "pot_mat = sciospec.StartStopMeasurement()\n",
    "np.savez(\n",
    "    s_path + \"/sample_{0:06d}.npz\".format(s_idx),\n",
    "    timestamp=crr_ts,\n",
    "    pot_mat=pot_mat,\n",
    "    nm=NM,\n",
    ")\n",
    "s_idx += 1"
   ]
  },
  {
   "cell_type": "code",
   "execution_count": 69,
   "id": "ab9a0ddd-e34e-4d2f-8992-dc0b2de4d1b6",
   "metadata": {},
   "outputs": [
    {
     "data": {
      "text/plain": [
       "560"
      ]
     },
     "execution_count": 69,
     "metadata": {},
     "output_type": "execute_result"
    }
   ],
   "source": [
    "s_idx * 40"
   ]
  },
  {
   "cell_type": "code",
   "execution_count": 49,
   "id": "67e5ae4d-c743-40ab-9214-49a4ae5e9d99",
   "metadata": {},
   "outputs": [
    {
     "name": "stdout",
     "output_type": "stream",
     "text": [
      "[30 30 70 70 60 60 80 80 40 40 20 20 50 50]\n"
     ]
    }
   ],
   "source": []
  },
  {
   "cell_type": "code",
   "execution_count": null,
   "id": "1c094e1f-f979-42b6-88f0-71fca46616e9",
   "metadata": {},
   "outputs": [],
   "source": []
  }
 ],
 "metadata": {
  "kernelspec": {
   "display_name": "Python 3 (ipykernel)",
   "language": "python",
   "name": "python3"
  },
  "language_info": {
   "codemirror_mode": {
    "name": "ipython",
    "version": 3
   },
   "file_extension": ".py",
   "mimetype": "text/x-python",
   "name": "python",
   "nbconvert_exporter": "python",
   "pygments_lexer": "ipython3",
   "version": "3.12.2"
  }
 },
 "nbformat": 4,
 "nbformat_minor": 5
}
