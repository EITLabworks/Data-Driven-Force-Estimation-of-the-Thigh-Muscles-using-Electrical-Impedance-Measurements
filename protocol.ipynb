{
 "cells": [
  {
   "cell_type": "markdown",
   "id": "790970ca-0020-4598-8f69-d12efeefb56b",
   "metadata": {},
   "source": [
    "Requirements:\n",
    "\n",
    "    pip install fpdf2\n"
   ]
  },
  {
   "cell_type": "code",
   "execution_count": 13,
   "id": "b79c752c-568a-4cc1-88a8-0999bcfa578a",
   "metadata": {},
   "outputs": [],
   "source": [
    "from datetime import datetime\n",
    "\n",
    "from fpdf import FPDF, XPos, YPos\n",
    "\n",
    "\n",
    "class ExperimentProtocol:\n",
    "    def __init__(self, title, experimenter, date=None):\n",
    "        self.title = title\n",
    "        self.experimenter = experimenter\n",
    "        self.date = date if date else datetime.now().strftime(\"%Y-%m-%d\")\n",
    "        self.sections = []\n",
    "\n",
    "    def add_section(self, heading, content):\n",
    "        self.sections.append({\"heading\": heading, \"content\": content})\n",
    "\n",
    "    def generate_pdf(self, filename):\n",
    "        pdf = FPDF()\n",
    "        pdf.set_auto_page_break(auto=True, margin=15)\n",
    "        pdf.add_page()\n",
    "        pdf.set_font(\"Times\", size=12)\n",
    "\n",
    "        # Title\n",
    "        pdf.set_font(\"Times\", style=\"B\", size=16)\n",
    "        pdf.cell(0, 10, self.title, new_x=XPos.LMARGIN, new_y=YPos.NEXT, align=\"C\")\n",
    "        pdf.ln(10)\n",
    "\n",
    "        # Experiment details\n",
    "        pdf.set_font(\"Times\", size=12)\n",
    "        pdf.cell(\n",
    "            0,\n",
    "            10,\n",
    "            f\"Experimenter: {self.experimenter}\",\n",
    "            new_x=XPos.LMARGIN,\n",
    "            new_y=YPos.NEXT,\n",
    "        )\n",
    "        pdf.cell(0, 10, f\"Date: {self.date}\", new_x=XPos.LMARGIN, new_y=YPos.NEXT)\n",
    "        pdf.ln(10)\n",
    "\n",
    "        # Sections\n",
    "        for section in self.sections:\n",
    "            pdf.set_font(\"Times\", style=\"B\", size=14)\n",
    "            pdf.cell(0, 10, section[\"heading\"], new_x=XPos.LMARGIN, new_y=YPos.NEXT)\n",
    "            pdf.ln(5)\n",
    "            pdf.set_font(\"Times\", size=12)\n",
    "            pdf.multi_cell(0, 10, section[\"content\"])\n",
    "            pdf.ln(5)\n",
    "\n",
    "        # Save\n",
    "        pdf.output(filename)\n",
    "        print(f\"PDF successfully saved as '{filename}'!\")"
   ]
  },
  {
   "cell_type": "code",
   "execution_count": 14,
   "id": "175d6195-d052-48aa-a583-481dbdee9629",
   "metadata": {},
   "outputs": [],
   "source": [
    "# Example usage\n",
    "protocol = ExperimentProtocol(\n",
    "    title=\"Experiment Protocol: Temperature Measurement\", experimenter=\"John Doe\"\n",
    ")"
   ]
  },
  {
   "cell_type": "code",
   "execution_count": 15,
   "id": "fbc7bd22-8c7c-4807-91ff-bebf0200af30",
   "metadata": {},
   "outputs": [],
   "source": [
    "protocol.add_section(\n",
    "    \"Objective of the Experiment\",\n",
    "    \"The objective is to record temperature changes over a 24-hour period.\",\n",
    ")\n",
    "protocol.add_section(\n",
    "    \"Materials\", \"- Thermometer\\n- Stopwatch\\n- Notebook for recording data\"\n",
    ")\n",
    "protocol.add_section(\n",
    "    \"Methodology\",\n",
    "    \"1. Conduct measurements every 30 minutes.\\n2. Record data directly in the protocol.\",\n",
    ")\n",
    "protocol.add_section(\"Results\", \"The results will be documented in the table.\")"
   ]
  },
  {
   "cell_type": "code",
   "execution_count": 16,
   "id": "7f79545f-6093-4c9d-a7dd-dd40830c2370",
   "metadata": {},
   "outputs": [
    {
     "name": "stdout",
     "output_type": "stream",
     "text": [
      "PDF successfully saved as 'experiment_protocol.pdf'!\n"
     ]
    }
   ],
   "source": [
    "protocol.generate_pdf(\"experiment_protocol.pdf\")"
   ]
  },
  {
   "cell_type": "code",
   "execution_count": null,
   "id": "e5550069-d0ee-4451-acaa-66ce5981c65e",
   "metadata": {},
   "outputs": [],
   "source": []
  }
 ],
 "metadata": {
  "kernelspec": {
   "display_name": "Python 3 (ipykernel)",
   "language": "python",
   "name": "python3"
  },
  "language_info": {
   "codemirror_mode": {
    "name": "ipython",
    "version": 3
   },
   "file_extension": ".py",
   "mimetype": "text/x-python",
   "name": "python",
   "nbconvert_exporter": "python",
   "pygments_lexer": "ipython3",
   "version": "3.12.2"
  }
 },
 "nbformat": 4,
 "nbformat_minor": 5
}
