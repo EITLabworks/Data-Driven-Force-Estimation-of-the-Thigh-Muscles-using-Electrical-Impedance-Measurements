{
 "cells": [
  {
   "cell_type": "code",
   "execution_count": 1,
   "id": "f0ce6dc3-4914-4bef-9844-cd4a73a6d5bd",
   "metadata": {},
   "outputs": [],
   "source": [
    "path = \"measurements/Participant_test1/\""
   ]
  },
  {
   "cell_type": "code",
   "execution_count": 2,
   "id": "d6f81928-209e-4fc5-8b09-89258695c6eb",
   "metadata": {},
   "outputs": [],
   "source": [
    "import os\n",
    "from glob import glob\n",
    "\n",
    "import matplotlib.pyplot as plt\n",
    "import numpy as np\n",
    "\n",
    "from src.postprocessing import (\n",
    "    IsoforceIso,\n",
    "    ProcessingDir,\n",
    "    process_sciospec_eit,\n",
    "    renderDF,\n",
    "    scale_to_range,\n",
    ")"
   ]
  },
  {
   "cell_type": "code",
   "execution_count": 3,
   "id": "720e8025-957e-4ad4-ab42-6c7ca170cd13",
   "metadata": {},
   "outputs": [
    {
     "name": "stdout",
     "output_type": "stream",
     "text": [
      "Fund participant data:\n",
      "\n",
      "Head directory: self.path='measurements/Participant_test1/'\n",
      "Raw Isoforce data measured by Isoforce:\n",
      "\tself.isoforce_iso='measurements/Participant_test1/Test_1_JO_raw_data_10012025154959.txt'\n",
      "Raw Isoforce data measured by Python:\n",
      "\tself.isoforce_py_raw='measurements/Participant_test1/Isokinetic_raw/'\n",
      "Raw sciospec EIT data:\n",
      "\tself.sciospec_EIT_raw='measurements/Participant_test1/EIT_raw/'\n",
      "Raw sciospec EIT samples:\n",
      "\tself.EIT_samples_raw='measurements/Participant_test1/EIT_raw/20250113 09.24.18/setup/'\n",
      "Preprocessed sciospec EIT samples:\n",
      "\tself.s_path_eit='measurements/Participant_test1/EIT_processed/'\n"
     ]
    }
   ],
   "source": [
    "part_path = ProcessingDir(path)"
   ]
  },
  {
   "cell_type": "code",
   "execution_count": 4,
   "id": "a8dc0c3e-6b3a-4b8f-814a-af365cae8e47",
   "metadata": {},
   "outputs": [
    {
     "data": {
      "text/html": [
       "<div>\n",
       "<style scoped>\n",
       "    .dataframe tbody tr th:only-of-type {\n",
       "        vertical-align: middle;\n",
       "    }\n",
       "\n",
       "    .dataframe tbody tr th {\n",
       "        vertical-align: top;\n",
       "    }\n",
       "\n",
       "    .dataframe thead th {\n",
       "        text-align: right;\n",
       "    }\n",
       "</style>\n",
       "<table border=\"1\" class=\"dataframe\">\n",
       "  <thead>\n",
       "    <tr style=\"text-align: right;\">\n",
       "      <th></th>\n",
       "      <th>Torque</th>\n",
       "      <th>Angle</th>\n",
       "      <th>Direction</th>\n",
       "      <th>Mode</th>\n",
       "      <th>Velocity</th>\n",
       "      <th>Record</th>\n",
       "      <th></th>\n",
       "    </tr>\n",
       "  </thead>\n",
       "  <tbody>\n",
       "    <tr>\n",
       "      <th>0</th>\n",
       "      <td>-4,0</td>\n",
       "      <td>119,5</td>\n",
       "      <td>-1.0</td>\n",
       "      <td>CONCPM2</td>\n",
       "      <td>15,0</td>\n",
       "      <td>1.0</td>\n",
       "      <td>14,8</td>\n",
       "    </tr>\n",
       "    <tr>\n",
       "      <th>1</th>\n",
       "      <td>-4,1</td>\n",
       "      <td>119,5</td>\n",
       "      <td>-1.0</td>\n",
       "      <td>CONCPM2</td>\n",
       "      <td>15,0</td>\n",
       "      <td>1.0</td>\n",
       "      <td>Protocol/EIT_test</td>\n",
       "    </tr>\n",
       "    <tr>\n",
       "      <th>2</th>\n",
       "      <td>-4,1</td>\n",
       "      <td>119,4</td>\n",
       "      <td>-1.0</td>\n",
       "      <td>CONCPM2</td>\n",
       "      <td>15,0</td>\n",
       "      <td>1.0</td>\n",
       "      <td>Cushion/ 3</td>\n",
       "    </tr>\n",
       "    <tr>\n",
       "      <th>3</th>\n",
       "      <td>-4,2</td>\n",
       "      <td>119,4</td>\n",
       "      <td>-1.0</td>\n",
       "      <td>CONCPM2</td>\n",
       "      <td>15,0</td>\n",
       "      <td>1.0</td>\n",
       "      <td>Name/Test FG</td>\n",
       "    </tr>\n",
       "    <tr>\n",
       "      <th>4</th>\n",
       "      <td>-4,3</td>\n",
       "      <td>119,4</td>\n",
       "      <td>-1.0</td>\n",
       "      <td>CONCPM2</td>\n",
       "      <td>15,0</td>\n",
       "      <td>1.0</td>\n",
       "      <td>Filecode/Test FG15434810012025R0111</td>\n",
       "    </tr>\n",
       "    <tr>\n",
       "      <th>...</th>\n",
       "      <td>...</td>\n",
       "      <td>...</td>\n",
       "      <td>...</td>\n",
       "      <td>...</td>\n",
       "      <td>...</td>\n",
       "      <td>...</td>\n",
       "      <td>...</td>\n",
       "    </tr>\n",
       "    <tr>\n",
       "      <th>109217</th>\n",
       "      <td>2,7</td>\n",
       "      <td>89,9</td>\n",
       "      <td>-1.0</td>\n",
       "      <td>CONCPM2</td>\n",
       "      <td>15,0</td>\n",
       "      <td>1.0</td>\n",
       "      <td></td>\n",
       "    </tr>\n",
       "    <tr>\n",
       "      <th>109218</th>\n",
       "      <td>2,7</td>\n",
       "      <td>89,9</td>\n",
       "      <td>-1.0</td>\n",
       "      <td>CONCPM2</td>\n",
       "      <td>15,0</td>\n",
       "      <td>1.0</td>\n",
       "      <td></td>\n",
       "    </tr>\n",
       "    <tr>\n",
       "      <th>109219</th>\n",
       "      <td>2,7</td>\n",
       "      <td>89,9</td>\n",
       "      <td>-1.0</td>\n",
       "      <td>CONCPM2</td>\n",
       "      <td>15,0</td>\n",
       "      <td>1.0</td>\n",
       "      <td></td>\n",
       "    </tr>\n",
       "    <tr>\n",
       "      <th>109220</th>\n",
       "      <td>2,7</td>\n",
       "      <td>89,9</td>\n",
       "      <td>-1.0</td>\n",
       "      <td>CONCPM2</td>\n",
       "      <td>15,0</td>\n",
       "      <td>1.0</td>\n",
       "      <td></td>\n",
       "    </tr>\n",
       "    <tr>\n",
       "      <th>109221</th>\n",
       "      <td>2,7</td>\n",
       "      <td>89,9</td>\n",
       "      <td>-1.0</td>\n",
       "      <td>CONCPM2</td>\n",
       "      <td>15,0</td>\n",
       "      <td>1.0</td>\n",
       "      <td></td>\n",
       "    </tr>\n",
       "  </tbody>\n",
       "</table>\n",
       "<p>109222 rows × 7 columns</p>\n",
       "</div>"
      ],
      "text/plain": [
       "       Torque  Angle  Direction     Mode Velocity  Record  \\\n",
       "0        -4,0  119,5       -1.0  CONCPM2     15,0     1.0   \n",
       "1        -4,1  119,5       -1.0  CONCPM2     15,0     1.0   \n",
       "2        -4,1  119,4       -1.0  CONCPM2     15,0     1.0   \n",
       "3        -4,2  119,4       -1.0  CONCPM2     15,0     1.0   \n",
       "4        -4,3  119,4       -1.0  CONCPM2     15,0     1.0   \n",
       "...       ...    ...        ...      ...      ...     ...   \n",
       "109217    2,7   89,9       -1.0  CONCPM2     15,0     1.0   \n",
       "109218    2,7   89,9       -1.0  CONCPM2     15,0     1.0   \n",
       "109219    2,7   89,9       -1.0  CONCPM2     15,0     1.0   \n",
       "109220    2,7   89,9       -1.0  CONCPM2     15,0     1.0   \n",
       "109221    2,7   89,9       -1.0  CONCPM2     15,0     1.0   \n",
       "\n",
       "                                             \n",
       "0                                      14,8  \n",
       "1                         Protocol/EIT_test  \n",
       "2                                Cushion/ 3  \n",
       "3                              Name/Test FG  \n",
       "4       Filecode/Test FG15434810012025R0111  \n",
       "...                                     ...  \n",
       "109217                                       \n",
       "109218                                       \n",
       "109219                                       \n",
       "109220                                       \n",
       "109221                                       \n",
       "\n",
       "[109222 rows x 7 columns]"
      ]
     },
     "execution_count": 4,
     "metadata": {},
     "output_type": "execute_result"
    }
   ],
   "source": [
    "DF = renderDF(part_path.isoforce_iso)\n",
    "DF"
   ]
  },
  {
   "cell_type": "code",
   "execution_count": 10,
   "id": "88683393-3afa-4848-ba13-fa43dcc52a89",
   "metadata": {},
   "outputs": [
    {
     "name": "stdout",
     "output_type": "stream",
     "text": [
      "!!!The torque data is lowpass filtered!!!\n",
      "!!!The angle data is lowpass filtered!!!\n"
     ]
    }
   ],
   "source": [
    "isoforce_iso = IsoforceIso(DF, LP_filter=True)\n",
    "# isoforce_iso.plot_torque()\n",
    "# isoforce_iso.plot_angle()\n",
    "# isoforce_iso.plot_speed()"
   ]
  },
  {
   "cell_type": "code",
   "execution_count": 11,
   "id": "4fb12b7c-d048-49eb-9e47-587e6d8cfec8",
   "metadata": {},
   "outputs": [
    {
     "data": {
      "text/plain": [
       "datetime.datetime(2025, 1, 10, 15, 43, 48)"
      ]
     },
     "execution_count": 11,
     "metadata": {},
     "output_type": "execute_result"
    }
   ],
   "source": [
    "isoforce_iso.date_time_iso"
   ]
  }
 ],
 "metadata": {
  "kernelspec": {
   "display_name": "Python 3 (ipykernel)",
   "language": "python",
   "name": "python3"
  },
  "language_info": {
   "codemirror_mode": {
    "name": "ipython",
    "version": 3
   },
   "file_extension": ".py",
   "mimetype": "text/x-python",
   "name": "python",
   "nbconvert_exporter": "python",
   "pygments_lexer": "ipython3",
   "version": "3.12.2"
  }
 },
 "nbformat": 4,
 "nbformat_minor": 5
}
